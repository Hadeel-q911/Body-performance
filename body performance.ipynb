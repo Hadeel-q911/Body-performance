{
 "cells": [
  {
   "cell_type": "markdown",
   "id": "62e79e4f",
   "metadata": {},
   "source": [
    "### Goal:\n",
    "Focusing on body performance may be one of the most important ways to improve physical health and increase awareness of the importance of exercise for humans. This can be achieved by analyzing and extracting valuable insights from body performance datasets, tracking human age progress, and, consequently, enhancing sports performance, improving public health and physical fitness, and raising awareness of its significance."
   ]
  },
  {
   "cell_type": "markdown",
   "id": "62fb1c0c",
   "metadata": {},
   "source": [
    "### Data:\n",
    "Our dataset is called “Body performance”. • It from Kaggle website. \n",
    "The dataset provide confirmed the grade performance with age and gender and some exercise performance data.The link( https://www.kaggle.com/datasets/kukuroo3/body-performance-data ) show the source data.\n",
    "It has 13394 row and each of them have 11 attributes."
   ]
  },
  {
   "cell_type": "markdown",
   "id": "15ff8c56",
   "metadata": {},
   "source": [
    "\n",
    "\n",
    "|name| Desc| data type| possible value|\n",
    "|-------|-----|-------------|-----------------|\n",
    "|Age|The person's age in years| numrical|20-64|\n",
    "|Gender|The person's gender |binary|F,M|\n",
    "|Height_cm|The person's weight | numricl|125-194|\n",
    "|weight_kg|The person's weight|numrical|26.3-138|\n",
    "|body fat_%|des|numrical|3-7|\n",
    "|diastolic| diastolic blood pressure in min|numrical|0-156|\n",
    "|systolic| systolic blood pressure in min |numrical|0-201|\n",
    "|gripForce|fingers flexibility tests |numrical |0-70.5|\n",
    "|sit and bend forward_cm|liner flexibility tests|numrical| -25-213|\n",
    "|sit-ups counts|a measure the endurance of the abdominal and hip-flexor muscles |numrical|0-80|\n",
    "|broad jump_cm|test measures lower-body horizontal explosiveness and/or power |numrical|0-303|"
   ]
  },
  {
   "cell_type": "markdown",
   "id": "5990626b",
   "metadata": {},
   "source": []
  }
 ],
 "metadata": {
  "kernelspec": {
   "display_name": "R",
   "language": "R",
   "name": "ir"
  },
  "language_info": {
   "codemirror_mode": "r",
   "file_extension": ".r",
   "mimetype": "text/x-r-source",
   "name": "R",
   "pygments_lexer": "r",
   "version": "3.6.1"
  }
 },
 "nbformat": 4,
 "nbformat_minor": 5
}
